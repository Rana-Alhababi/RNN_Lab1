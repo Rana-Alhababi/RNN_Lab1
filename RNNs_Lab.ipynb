{
 "cells": [
  {
   "cell_type": "markdown",
   "id": "cdbfec32-1b50-43e9-a648-c9879dc4b79c",
   "metadata": {},
   "source": [
    "# Import Libraries"
   ]
  },
  {
   "cell_type": "code",
   "execution_count": null,
   "metadata": {},
   "outputs": [],
   "source": [
    "from google.colab import drive\n",
    "drive.mount('/content/drive')\n",
    "\n",
    "%cd /content/drive/MyDrive"
   ]
  },
  {
   "cell_type": "code",
   "execution_count": 559,
   "id": "e1eb792b-8cfc-44d8-9d1c-0bf8c403fb8f",
   "metadata": {},
   "outputs": [],
   "source": [
    "import os\n",
    "import re\n",
    "\n",
    "import numpy as np\n",
    "import pandas as pd\n",
    "\n",
    "import keras.backend as K\n",
    "from tensorflow import keras\n",
    "from tensorflow.keras.models import Sequential\n",
    "from tensorflow.keras.layers import LSTM, Embedding, SimpleRNN, Dense, Dropout\n",
    "\n",
    "from tensorflow.keras.preprocessing.text import Tokenizer\n",
    "\n",
    "from tensorflow.keras.preprocessing.sequence import pad_sequences\n",
    "\n",
    "from nltk.tokenize import word_tokenize\n",
    "\n",
    "import matplotlib.pyplot as plt\n",
    "from tensorflow.keras.utils import to_categorical\n",
    "\n",
    "import warnings\n",
    "warnings.filterwarnings(\"ignore\", category=DeprecationWarning)"
   ]
  },
  {
   "cell_type": "markdown",
   "id": "6a7705c2-42a1-4047-bbac-3a0f7465e032",
   "metadata": {},
   "source": [
    "# Load corpus"
   ]
  },
  {
   "cell_type": "markdown",
   "id": "31467209-c5d3-4a4f-a79f-4a2f6e68ce85",
   "metadata": {},
   "source": [
    "### Load Positives"
   ]
  },
  {
   "cell_type": "code",
   "execution_count": 3,
   "id": "8ef01310-47d6-44ac-aff1-abf4da07a42d",
   "metadata": {},
   "outputs": [],
   "source": [
    "train_tweets, train_labels = [], []\n",
    "\n",
    "pos = os.getcwd() + '/content/drive/MyDrive/corpus/arabic_tweets/pos/'  # Replace with the actual directory path\n",
    "\n",
    "# Iterate over each file in the directory\n",
    "for filename in os.listdir(pos):\n",
    "    if filename.endswith('.txt'):  # Select only text files\n",
    "        file_path = os.path.join(pos, filename)\n",
    "        with open(file_path, 'r', encoding='utf-8-sig') as file:\n",
    "            file_content = file.read()\n",
    "            train_tweets.append(file_content)\n",
    "            train_labels.append(\"positive\")"
   ]
  },
  {
   "cell_type": "markdown",
   "id": "268d463c-377c-4730-9398-cb5fcaa5e44b",
   "metadata": {},
   "source": [
    "### Load Negatives"
   ]
  },
  {
   "cell_type": "code",
   "execution_count": 4,
   "id": "937bb606-b07a-4e7e-a83a-1ccce2b18263",
   "metadata": {},
   "outputs": [],
   "source": [
    "# Get the txt file negative tweet\n",
    "pos = os.getcwd() + '/content/drive/MyDrive/corpus/arabic_tweets/neg/'  # Replace with the actual directory path\n",
    "\n",
    "# Iterate over each file in the directory\n",
    "for filename in os.listdir(pos):\n",
    "    if filename.endswith('.txt'):  # Select only text files\n",
    "        file_path = os.path.join(pos, filename)\n",
    "        with open(file_path, 'r', encoding='utf-8-sig') as file:\n",
    "            file_content = file.read()\n",
    "            train_tweets.append(file_content)\n",
    "            train_labels.append(\"negative\")"
   ]
  },
  {
   "cell_type": "markdown",
   "id": "3a2e8e33-f28b-4402-ab6d-f4925c1db165",
   "metadata": {},
   "source": [
    "### Build a dataframe"
   ]
  },
  {
   "cell_type": "code",
   "execution_count": 447,
   "id": "743b5741-d234-4d22-a833-76ec742cd6f3",
   "metadata": {},
   "outputs": [
    {
     "data": {
      "text/html": [
       "<div>\n",
       "<style scoped>\n",
       "    .dataframe tbody tr th:only-of-type {\n",
       "        vertical-align: middle;\n",
       "    }\n",
       "\n",
       "    .dataframe tbody tr th {\n",
       "        vertical-align: top;\n",
       "    }\n",
       "\n",
       "    .dataframe thead th {\n",
       "        text-align: right;\n",
       "    }\n",
       "</style>\n",
       "<table border=\"1\" class=\"dataframe\">\n",
       "  <thead>\n",
       "    <tr style=\"text-align: right;\">\n",
       "      <th></th>\n",
       "      <th>Tweets</th>\n",
       "      <th>Labels</th>\n",
       "    </tr>\n",
       "  </thead>\n",
       "  <tbody>\n",
       "    <tr>\n",
       "      <th>0</th>\n",
       "      <td>نحن الذين يتحول كل ما نود أن نقوله إلى دعاء لل...</td>\n",
       "      <td>positive</td>\n",
       "    </tr>\n",
       "    <tr>\n",
       "      <th>1</th>\n",
       "      <td>وفي النهاية لن يبقىٰ معك آحدإلا من رأىٰ الجمال...</td>\n",
       "      <td>positive</td>\n",
       "    </tr>\n",
       "    <tr>\n",
       "      <th>2</th>\n",
       "      <td>نمش ننوم ما دا ديل ولادنا 💚\\n</td>\n",
       "      <td>positive</td>\n",
       "    </tr>\n",
       "    <tr>\n",
       "      <th>3</th>\n",
       "      <td>تعدل النت وشفتها ✌\\n</td>\n",
       "      <td>positive</td>\n",
       "    </tr>\n",
       "    <tr>\n",
       "      <th>4</th>\n",
       "      <td>🎥 المهمة الأولى في \"جدة\" ✔💪🏼 💙 #الهلال #فيديو_...</td>\n",
       "      <td>positive</td>\n",
       "    </tr>\n",
       "  </tbody>\n",
       "</table>\n",
       "</div>"
      ],
      "text/plain": [
       "                                              Tweets    Labels\n",
       "0  نحن الذين يتحول كل ما نود أن نقوله إلى دعاء لل...  positive\n",
       "1  وفي النهاية لن يبقىٰ معك آحدإلا من رأىٰ الجمال...  positive\n",
       "2                      نمش ننوم ما دا ديل ولادنا 💚\\n  positive\n",
       "3                               تعدل النت وشفتها ✌\\n  positive\n",
       "4  🎥 المهمة الأولى في \"جدة\" ✔💪🏼 💙 #الهلال #فيديو_...  positive"
      ]
     },
     "execution_count": 447,
     "metadata": {},
     "output_type": "execute_result"
    }
   ],
   "source": [
    "train_dic = {\n",
    "    'Tweets' : train_tweets,\n",
    "    'Labels' : train_labels\n",
    "}\n",
    "\n",
    "train_corpus = pd.DataFrame(train_dic)\n",
    "train_corpus.head()"
   ]
  },
  {
   "cell_type": "markdown",
   "id": "6b046ada-13fc-45d2-9056-b4115de8e812",
   "metadata": {},
   "source": [
    "# EDA\n",
    "\n",
    "##### Explore your dataset"
   ]
  },
  {
   "cell_type": "code",
   "execution_count": 448,
   "id": "8b6d563b-a771-43b4-8e43-3688275b1f34",
   "metadata": {},
   "outputs": [
    {
     "data": {
      "text/plain": [
       "(58751, 2)"
      ]
     },
     "execution_count": 448,
     "metadata": {},
     "output_type": "execute_result"
    }
   ],
   "source": [
    "train_corpus.shape"
   ]
  },
  {
   "cell_type": "code",
   "execution_count": 449,
   "id": "2a6a692f-3828-493f-8c98-88723f741ad5",
   "metadata": {},
   "outputs": [
    {
     "data": {
      "text/plain": [
       "Labels\n",
       "positive    29849\n",
       "negative    28902\n",
       "Name: count, dtype: int64"
      ]
     },
     "execution_count": 449,
     "metadata": {},
     "output_type": "execute_result"
    }
   ],
   "source": [
    "train_corpus['Labels'].value_counts()"
   ]
  },
  {
   "cell_type": "code",
   "execution_count": 450,
   "id": "31a2dc08-f482-4430-9c00-9a126a7dc6e9",
   "metadata": {},
   "outputs": [
    {
     "data": {
      "text/plain": [
       "Tweets    كان له بيت وأهل وجيران،في حي آمن،في بلد أمين ك...\n",
       "Labels                                             positive\n",
       "Name: 862, dtype: object"
      ]
     },
     "execution_count": 450,
     "metadata": {},
     "output_type": "execute_result"
    }
   ],
   "source": [
    "index = train_corpus[\"Tweets\"].apply(len).idxmax()\n",
    "train_corpus.iloc[index, :]"
   ]
  },
  {
   "cell_type": "code",
   "execution_count": 451,
   "id": "0025cb9c-aaf8-4638-8a86-4ace0867de47",
   "metadata": {},
   "outputs": [
    {
     "data": {
      "text/plain": [
       "'كان له بيت وأهل وجيران،في حي آمن،في بلد أمين كان له بيت وأهل وجيران،في حي آمن كان له بيت وأهل وجيران كان له بيت وأهل كان له بيت كان له كان 👤\\n'"
      ]
     },
     "execution_count": 451,
     "metadata": {},
     "output_type": "execute_result"
    }
   ],
   "source": [
    "train_corpus[\"Tweets\"][index]"
   ]
  },
  {
   "cell_type": "code",
   "execution_count": 452,
   "id": "4bebe8e7-ad93-4529-9f8c-6a88559f169f",
   "metadata": {},
   "outputs": [
    {
     "name": "stdout",
     "output_type": "stream",
     "text": [
      "<keras.src.preprocessing.text.Tokenizer object at 0x000002AEE6393AD0>\n"
     ]
    }
   ],
   "source": [
    "A=Tokenizer(train_corpus[\"Tweets\"][index])\n",
    "print(A)"
   ]
  },
  {
   "cell_type": "code",
   "execution_count": 453,
   "id": "66c6d691-918a-433c-a988-13e767d97caa",
   "metadata": {},
   "outputs": [
    {
     "data": {
      "text/html": [
       "<div>\n",
       "<style scoped>\n",
       "    .dataframe tbody tr th:only-of-type {\n",
       "        vertical-align: middle;\n",
       "    }\n",
       "\n",
       "    .dataframe tbody tr th {\n",
       "        vertical-align: top;\n",
       "    }\n",
       "\n",
       "    .dataframe thead th {\n",
       "        text-align: right;\n",
       "    }\n",
       "</style>\n",
       "<table border=\"1\" class=\"dataframe\">\n",
       "  <thead>\n",
       "    <tr style=\"text-align: right;\">\n",
       "      <th></th>\n",
       "      <th>Tweets</th>\n",
       "      <th>Labels</th>\n",
       "      <th>length</th>\n",
       "    </tr>\n",
       "  </thead>\n",
       "  <tbody>\n",
       "    <tr>\n",
       "      <th>0</th>\n",
       "      <td>نحن الذين يتحول كل ما نود أن نقوله إلى دعاء لل...</td>\n",
       "      <td>positive</td>\n",
       "      <td>20</td>\n",
       "    </tr>\n",
       "    <tr>\n",
       "      <th>1</th>\n",
       "      <td>وفي النهاية لن يبقىٰ معك آحدإلا من رأىٰ الجمال...</td>\n",
       "      <td>positive</td>\n",
       "      <td>13</td>\n",
       "    </tr>\n",
       "    <tr>\n",
       "      <th>2</th>\n",
       "      <td>نمش ننوم ما دا ديل ولادنا 💚\\n</td>\n",
       "      <td>positive</td>\n",
       "      <td>7</td>\n",
       "    </tr>\n",
       "    <tr>\n",
       "      <th>3</th>\n",
       "      <td>تعدل النت وشفتها ✌\\n</td>\n",
       "      <td>positive</td>\n",
       "      <td>4</td>\n",
       "    </tr>\n",
       "    <tr>\n",
       "      <th>4</th>\n",
       "      <td>🎥 المهمة الأولى في \"جدة\" ✔💪🏼 💙 #الهلال #فيديو_...</td>\n",
       "      <td>positive</td>\n",
       "      <td>13</td>\n",
       "    </tr>\n",
       "    <tr>\n",
       "      <th>...</th>\n",
       "      <td>...</td>\n",
       "      <td>...</td>\n",
       "      <td>...</td>\n",
       "    </tr>\n",
       "    <tr>\n",
       "      <th>58746</th>\n",
       "      <td>#أمي فقيدتي وأن مرت الأيام.. وبدأ الجميع بنسيا...</td>\n",
       "      <td>negative</td>\n",
       "      <td>23</td>\n",
       "    </tr>\n",
       "    <tr>\n",
       "      <th>58747</th>\n",
       "      <td>مره في السنه ما كل اسبوع عاد 😢\\n</td>\n",
       "      <td>negative</td>\n",
       "      <td>8</td>\n",
       "    </tr>\n",
       "    <tr>\n",
       "      <th>58748</th>\n",
       "      <td>#يوم_الجمعه اسال الله عز وجل في هذا اليوم الفض...</td>\n",
       "      <td>negative</td>\n",
       "      <td>22</td>\n",
       "    </tr>\n",
       "    <tr>\n",
       "      <th>58749</th>\n",
       "      <td>يعني الغاء العقود الاولي كانت تسكيته لنا شسالف...</td>\n",
       "      <td>negative</td>\n",
       "      <td>19</td>\n",
       "    </tr>\n",
       "    <tr>\n",
       "      <th>58750</th>\n",
       "      <td>الفار 🐀 في عهد خليل جلال 😲\\n</td>\n",
       "      <td>negative</td>\n",
       "      <td>7</td>\n",
       "    </tr>\n",
       "  </tbody>\n",
       "</table>\n",
       "<p>58751 rows × 3 columns</p>\n",
       "</div>"
      ],
      "text/plain": [
       "                                                  Tweets    Labels  length\n",
       "0      نحن الذين يتحول كل ما نود أن نقوله إلى دعاء لل...  positive      20\n",
       "1      وفي النهاية لن يبقىٰ معك آحدإلا من رأىٰ الجمال...  positive      13\n",
       "2                          نمش ننوم ما دا ديل ولادنا 💚\\n  positive       7\n",
       "3                                   تعدل النت وشفتها ✌\\n  positive       4\n",
       "4      🎥 المهمة الأولى في \"جدة\" ✔💪🏼 💙 #الهلال #فيديو_...  positive      13\n",
       "...                                                  ...       ...     ...\n",
       "58746  #أمي فقيدتي وأن مرت الأيام.. وبدأ الجميع بنسيا...  negative      23\n",
       "58747                   مره في السنه ما كل اسبوع عاد 😢\\n  negative       8\n",
       "58748  #يوم_الجمعه اسال الله عز وجل في هذا اليوم الفض...  negative      22\n",
       "58749  يعني الغاء العقود الاولي كانت تسكيته لنا شسالف...  negative      19\n",
       "58750                       الفار 🐀 في عهد خليل جلال 😲\\n  negative       7\n",
       "\n",
       "[58751 rows x 3 columns]"
      ]
     },
     "execution_count": 453,
     "metadata": {},
     "output_type": "execute_result"
    }
   ],
   "source": [
    "train_corpus['length'] = 0\n",
    "def findlen(i):\n",
    "    tokens = word_tokenize(i)\n",
    "    return len(tokens)\n",
    "    \n",
    "train_corpus['length'] = train_corpus[\"Tweets\"].apply(findlen)\n",
    "train_corpus"
   ]
  },
  {
   "cell_type": "code",
   "execution_count": 454,
   "id": "a0061fec-1770-48d6-910e-64b4e2660d8a",
   "metadata": {},
   "outputs": [],
   "source": [
    "import seaborn as sns"
   ]
  },
  {
   "cell_type": "code",
   "execution_count": 455,
   "id": "298f51a5-00d3-4478-afd5-81e59b450a1c",
   "metadata": {},
   "outputs": [
    {
     "data": {
      "text/plain": [
       "<seaborn.axisgrid.FacetGrid at 0x2aee6392a90>"
      ]
     },
     "execution_count": 455,
     "metadata": {},
     "output_type": "execute_result"
    },
    {
     "data": {
      "image/png": "[encoded data removed]",
      "text/plain": [
       "<Figure size 500x500 with 1 Axes>"
      ]
     },
     "metadata": {},
     "output_type": "display_data"
    }
   ],
   "source": [
    "sns.displot(train_corpus['length'], bins=300)"
   ]
  },
  {
   "cell_type": "code",
   "execution_count": 456,
   "id": "1d27eee4-8088-4a99-8a1d-3cf443484950",
   "metadata": {},
   "outputs": [
    {
     "data": {
      "text/html": [
       "<div>\n",
       "<style scoped>\n",
       "    .dataframe tbody tr th:only-of-type {\n",
       "        vertical-align: middle;\n",
       "    }\n",
       "\n",
       "    .dataframe tbody tr th {\n",
       "        vertical-align: top;\n",
       "    }\n",
       "\n",
       "    .dataframe thead th {\n",
       "        text-align: right;\n",
       "    }\n",
       "</style>\n",
       "<table border=\"1\" class=\"dataframe\">\n",
       "  <thead>\n",
       "    <tr style=\"text-align: right;\">\n",
       "      <th></th>\n",
       "      <th>length</th>\n",
       "    </tr>\n",
       "  </thead>\n",
       "  <tbody>\n",
       "    <tr>\n",
       "      <th>count</th>\n",
       "      <td>58751.000000</td>\n",
       "    </tr>\n",
       "    <tr>\n",
       "      <th>mean</th>\n",
       "      <td>13.599241</td>\n",
       "    </tr>\n",
       "    <tr>\n",
       "      <th>std</th>\n",
       "      <td>7.403306</td>\n",
       "    </tr>\n",
       "    <tr>\n",
       "      <th>min</th>\n",
       "      <td>0.000000</td>\n",
       "    </tr>\n",
       "    <tr>\n",
       "      <th>25%</th>\n",
       "      <td>7.000000</td>\n",
       "    </tr>\n",
       "    <tr>\n",
       "      <th>50%</th>\n",
       "      <td>13.000000</td>\n",
       "    </tr>\n",
       "    <tr>\n",
       "      <th>75%</th>\n",
       "      <td>20.000000</td>\n",
       "    </tr>\n",
       "    <tr>\n",
       "      <th>max</th>\n",
       "      <td>60.000000</td>\n",
       "    </tr>\n",
       "  </tbody>\n",
       "</table>\n",
       "</div>"
      ],
      "text/plain": [
       "             length\n",
       "count  58751.000000\n",
       "mean      13.599241\n",
       "std        7.403306\n",
       "min        0.000000\n",
       "25%        7.000000\n",
       "50%       13.000000\n",
       "75%       20.000000\n",
       "max       60.000000"
      ]
     },
     "execution_count": 456,
     "metadata": {},
     "output_type": "execute_result"
    }
   ],
   "source": [
    "train_corpus.describe()"
   ]
  },
  {
   "cell_type": "code",
   "execution_count": 457,
   "id": "c6bbeca4-2c1c-4f97-85ca-6b88cad4c1b8",
   "metadata": {},
   "outputs": [
    {
     "data": {
      "text/plain": [
       "<Axes: ylabel='length'>"
      ]
     },
     "execution_count": 457,
     "metadata": {},
     "output_type": "execute_result"
    },
    {
     "data": {
      "image/png": "[encoded data removed]",
      "text/plain": [
       "<Figure size 640x480 with 1 Axes>"
      ]
     },
     "metadata": {},
     "output_type": "display_data"
    }
   ],
   "source": [
    "sns.boxplot(train_corpus['length'])"
   ]
  },
  {
   "cell_type": "markdown",
   "id": "d8d8d4a6-89a4-47b1-bf43-08dc09b97506",
   "metadata": {},
   "source": [
    "# Data Preprocessing"
   ]
  },
  {
   "cell_type": "markdown",
   "id": "01f8d9fa-6fb7-4352-aadb-3abeb932c412",
   "metadata": {},
   "source": [
    "### Shuffle all rows"
   ]
  },
  {
   "cell_type": "code",
   "execution_count": 458,
   "id": "246bb815-274b-43a3-9d60-967a5864a6da",
   "metadata": {},
   "outputs": [
    {
     "name": "stdout",
     "output_type": "stream",
     "text": [
      "(58751, 3)\n",
      "(58746, 3)\n"
     ]
    }
   ],
   "source": [
    "print(train_corpus.shape)\n",
    "\n",
    "# 1-Calculate quartiles and IQR\n",
    "Q1 = train_corpus['length'].quantile(0.25)\n",
    "Q3 = train_corpus['length'].quantile(0.75)\n",
    "IQR = Q3 - Q1\n",
    "\n",
    "# 2-Define the lower and upper bounds for outliers\n",
    "lower = Q1 - 1.5 * IQR\n",
    "upper = Q3 + 1.5 * IQR\n",
    "\n",
    "# Identify and remove outliers\n",
    "outliers_mask = (train_corpus['length'] < lower) | (train_corpus['length'] > upper)\n",
    "train_corpus = train_corpus[~outliers_mask]\n",
    "\n",
    "# Display the shape of the DataFrame after removing outliers\n",
    "print(train_corpus.shape)"
   ]
  },
  {
   "cell_type": "code",
   "execution_count": 459,
   "id": "d657c89b-072f-44e3-90b9-763cdc613859",
   "metadata": {},
   "outputs": [],
   "source": [
    "train_corpus.drop(columns='length', inplace=True)"
   ]
  },
  {
   "cell_type": "code",
   "execution_count": 460,
   "id": "5576f4cf-ec4e-47b4-9ba6-ca46c1a86c8e",
   "metadata": {},
   "outputs": [
    {
     "data": {
      "text/html": [
       "<div>\n",
       "<style scoped>\n",
       "    .dataframe tbody tr th:only-of-type {\n",
       "        vertical-align: middle;\n",
       "    }\n",
       "\n",
       "    .dataframe tbody tr th {\n",
       "        vertical-align: top;\n",
       "    }\n",
       "\n",
       "    .dataframe thead th {\n",
       "        text-align: right;\n",
       "    }\n",
       "</style>\n",
       "<table border=\"1\" class=\"dataframe\">\n",
       "  <thead>\n",
       "    <tr style=\"text-align: right;\">\n",
       "      <th></th>\n",
       "      <th>Tweets</th>\n",
       "      <th>Labels</th>\n",
       "    </tr>\n",
       "  </thead>\n",
       "  <tbody>\n",
       "    <tr>\n",
       "      <th>0</th>\n",
       "      <td>نحن الذين يتحول كل ما نود أن نقوله إلى دعاء لل...</td>\n",
       "      <td>positive</td>\n",
       "    </tr>\n",
       "    <tr>\n",
       "      <th>1</th>\n",
       "      <td>وفي النهاية لن يبقىٰ معك آحدإلا من رأىٰ الجمال...</td>\n",
       "      <td>positive</td>\n",
       "    </tr>\n",
       "    <tr>\n",
       "      <th>2</th>\n",
       "      <td>نمش ننوم ما دا ديل ولادنا 💚\\n</td>\n",
       "      <td>positive</td>\n",
       "    </tr>\n",
       "    <tr>\n",
       "      <th>3</th>\n",
       "      <td>تعدل النت وشفتها ✌\\n</td>\n",
       "      <td>positive</td>\n",
       "    </tr>\n",
       "    <tr>\n",
       "      <th>4</th>\n",
       "      <td>🎥 المهمة الأولى في \"جدة\" ✔💪🏼 💙 #الهلال #فيديو_...</td>\n",
       "      <td>positive</td>\n",
       "    </tr>\n",
       "  </tbody>\n",
       "</table>\n",
       "</div>"
      ],
      "text/plain": [
       "                                              Tweets    Labels\n",
       "0  نحن الذين يتحول كل ما نود أن نقوله إلى دعاء لل...  positive\n",
       "1  وفي النهاية لن يبقىٰ معك آحدإلا من رأىٰ الجمال...  positive\n",
       "2                      نمش ننوم ما دا ديل ولادنا 💚\\n  positive\n",
       "3                               تعدل النت وشفتها ✌\\n  positive\n",
       "4  🎥 المهمة الأولى في \"جدة\" ✔💪🏼 💙 #الهلال #فيديو_...  positive"
      ]
     },
     "execution_count": 460,
     "metadata": {},
     "output_type": "execute_result"
    }
   ],
   "source": [
    "train_corpus.head()"
   ]
  },
  {
   "cell_type": "code",
   "execution_count": 461,
   "id": "88a2fecc-c821-4b76-9187-7cee5dc6d0ed",
   "metadata": {},
   "outputs": [
    {
     "data": {
      "text/plain": [
       "Labels\n",
       "positive    29844\n",
       "negative    28902\n",
       "Name: count, dtype: int64"
      ]
     },
     "execution_count": 461,
     "metadata": {},
     "output_type": "execute_result"
    }
   ],
   "source": [
    "train_corpus['Labels'].value_counts()"
   ]
  },
  {
   "cell_type": "code",
   "execution_count": 462,
   "id": "4e8461e6-5b17-4526-90a3-4776645db9c2",
   "metadata": {},
   "outputs": [
    {
     "data": {
      "text/html": [
       "<div>\n",
       "<style scoped>\n",
       "    .dataframe tbody tr th:only-of-type {\n",
       "        vertical-align: middle;\n",
       "    }\n",
       "\n",
       "    .dataframe tbody tr th {\n",
       "        vertical-align: top;\n",
       "    }\n",
       "\n",
       "    .dataframe thead th {\n",
       "        text-align: right;\n",
       "    }\n",
       "</style>\n",
       "<table border=\"1\" class=\"dataframe\">\n",
       "  <thead>\n",
       "    <tr style=\"text-align: right;\">\n",
       "      <th></th>\n",
       "      <th>Tweets</th>\n",
       "      <th>Labels</th>\n",
       "    </tr>\n",
       "  </thead>\n",
       "  <tbody>\n",
       "    <tr>\n",
       "      <th>0</th>\n",
       "      <td>نحن الذين يتحول كل ما نود أن نقوله إلى دعاء لل...</td>\n",
       "      <td>1</td>\n",
       "    </tr>\n",
       "    <tr>\n",
       "      <th>1</th>\n",
       "      <td>وفي النهاية لن يبقىٰ معك آحدإلا من رأىٰ الجمال...</td>\n",
       "      <td>1</td>\n",
       "    </tr>\n",
       "    <tr>\n",
       "      <th>2</th>\n",
       "      <td>نمش ننوم ما دا ديل ولادنا 💚\\n</td>\n",
       "      <td>1</td>\n",
       "    </tr>\n",
       "    <tr>\n",
       "      <th>3</th>\n",
       "      <td>تعدل النت وشفتها ✌\\n</td>\n",
       "      <td>1</td>\n",
       "    </tr>\n",
       "    <tr>\n",
       "      <th>4</th>\n",
       "      <td>🎥 المهمة الأولى في \"جدة\" ✔💪🏼 💙 #الهلال #فيديو_...</td>\n",
       "      <td>1</td>\n",
       "    </tr>\n",
       "    <tr>\n",
       "      <th>...</th>\n",
       "      <td>...</td>\n",
       "      <td>...</td>\n",
       "    </tr>\n",
       "    <tr>\n",
       "      <th>58746</th>\n",
       "      <td>#أمي فقيدتي وأن مرت الأيام.. وبدأ الجميع بنسيا...</td>\n",
       "      <td>0</td>\n",
       "    </tr>\n",
       "    <tr>\n",
       "      <th>58747</th>\n",
       "      <td>مره في السنه ما كل اسبوع عاد 😢\\n</td>\n",
       "      <td>0</td>\n",
       "    </tr>\n",
       "    <tr>\n",
       "      <th>58748</th>\n",
       "      <td>#يوم_الجمعه اسال الله عز وجل في هذا اليوم الفض...</td>\n",
       "      <td>0</td>\n",
       "    </tr>\n",
       "    <tr>\n",
       "      <th>58749</th>\n",
       "      <td>يعني الغاء العقود الاولي كانت تسكيته لنا شسالف...</td>\n",
       "      <td>0</td>\n",
       "    </tr>\n",
       "    <tr>\n",
       "      <th>58750</th>\n",
       "      <td>الفار 🐀 في عهد خليل جلال 😲\\n</td>\n",
       "      <td>0</td>\n",
       "    </tr>\n",
       "  </tbody>\n",
       "</table>\n",
       "<p>58746 rows × 2 columns</p>\n",
       "</div>"
      ],
      "text/plain": [
       "                                                  Tweets  Labels\n",
       "0      نحن الذين يتحول كل ما نود أن نقوله إلى دعاء لل...       1\n",
       "1      وفي النهاية لن يبقىٰ معك آحدإلا من رأىٰ الجمال...       1\n",
       "2                          نمش ننوم ما دا ديل ولادنا 💚\\n       1\n",
       "3                                   تعدل النت وشفتها ✌\\n       1\n",
       "4      🎥 المهمة الأولى في \"جدة\" ✔💪🏼 💙 #الهلال #فيديو_...       1\n",
       "...                                                  ...     ...\n",
       "58746  #أمي فقيدتي وأن مرت الأيام.. وبدأ الجميع بنسيا...       0\n",
       "58747                   مره في السنه ما كل اسبوع عاد 😢\\n       0\n",
       "58748  #يوم_الجمعه اسال الله عز وجل في هذا اليوم الفض...       0\n",
       "58749  يعني الغاء العقود الاولي كانت تسكيته لنا شسالف...       0\n",
       "58750                       الفار 🐀 في عهد خليل جلال 😲\\n       0\n",
       "\n",
       "[58746 rows x 2 columns]"
      ]
     },
     "execution_count": 462,
     "metadata": {},
     "output_type": "execute_result"
    }
   ],
   "source": [
    "train_corpus['Labels'] = train_corpus['Labels'].map({'positive' : 1, 'negative' : 0})\n",
    "train_corpus"
   ]
  },
  {
   "cell_type": "code",
   "execution_count": 463,
   "id": "e8d8b2df-0298-4f1d-ab01-6a877af89def",
   "metadata": {},
   "outputs": [],
   "source": [
    "train_corpus = train_corpus.sample(frac = 1)"
   ]
  },
  {
   "cell_type": "code",
   "execution_count": 464,
   "id": "ef311e74-a4b8-4843-a2a2-80417cf7d46e",
   "metadata": {},
   "outputs": [
    {
     "data": {
      "text/html": [
       "<div>\n",
       "<style scoped>\n",
       "    .dataframe tbody tr th:only-of-type {\n",
       "        vertical-align: middle;\n",
       "    }\n",
       "\n",
       "    .dataframe tbody tr th {\n",
       "        vertical-align: top;\n",
       "    }\n",
       "\n",
       "    .dataframe thead th {\n",
       "        text-align: right;\n",
       "    }\n",
       "</style>\n",
       "<table border=\"1\" class=\"dataframe\">\n",
       "  <thead>\n",
       "    <tr style=\"text-align: right;\">\n",
       "      <th></th>\n",
       "      <th>Tweets</th>\n",
       "      <th>Labels</th>\n",
       "    </tr>\n",
       "  </thead>\n",
       "  <tbody>\n",
       "    <tr>\n",
       "      <th>19508</th>\n",
       "      <td>اي والله مستحيل لا أراها تستقل 💛\\n</td>\n",
       "      <td>1</td>\n",
       "    </tr>\n",
       "    <tr>\n",
       "      <th>19659</th>\n",
       "      <td>نرجع للخمسات 😉\\n</td>\n",
       "      <td>1</td>\n",
       "    </tr>\n",
       "    <tr>\n",
       "      <th>18646</th>\n",
       "      <td>لا تعلق سعادتك بغير الله فإن الحبيب يجفو والقر...</td>\n",
       "      <td>1</td>\n",
       "    </tr>\n",
       "    <tr>\n",
       "      <th>1904</th>\n",
       "      <td>وكن لنفسك كل شي ❤ #سعودي_ولي_الفخر\\n</td>\n",
       "      <td>1</td>\n",
       "    </tr>\n",
       "    <tr>\n",
       "      <th>49692</th>\n",
       "      <td>شي يؤلم لمكانة المرأة السعودية ،، كنا ننتظر مك...</td>\n",
       "      <td>0</td>\n",
       "    </tr>\n",
       "  </tbody>\n",
       "</table>\n",
       "</div>"
      ],
      "text/plain": [
       "                                                  Tweets  Labels\n",
       "19508                 اي والله مستحيل لا أراها تستقل 💛\\n       1\n",
       "19659                                   نرجع للخمسات 😉\\n       1\n",
       "18646  لا تعلق سعادتك بغير الله فإن الحبيب يجفو والقر...       1\n",
       "1904                وكن لنفسك كل شي ❤ #سعودي_ولي_الفخر\\n       1\n",
       "49692  شي يؤلم لمكانة المرأة السعودية ،، كنا ننتظر مك...       0"
      ]
     },
     "execution_count": 464,
     "metadata": {},
     "output_type": "execute_result"
    }
   ],
   "source": [
    "train_corpus.head()"
   ]
  },
  {
   "cell_type": "markdown",
   "id": "7c10a499-afa6-4d35-aa8a-53dbcae8e557",
   "metadata": {},
   "source": [
    "### Data cleaning\n",
    "\n",
    "**Hint: remove URLs, Hashtags, alphanumeric characters, punctuation marks, stop words, extra spaces**"
   ]
  },
  {
   "cell_type": "code",
   "execution_count": 465,
   "id": "d141959a",
   "metadata": {},
   "outputs": [],
   "source": [
    "URL_pattern = r\"http[s]?://(?:[a-zA-Z]|[0-9]|[$-_@.&+]|[!*\\\\(\\\\),]|(?:%[0-9a-fA-F][0-9a-fA-F]))+\"\n",
    "hashtag_pattern = r\"#\\w+\"\n",
    "mention_pattern = r\"@\\w+\"\n",
    "alphanumeric_pattern = r\"\\w*\\d\\w*\"\n",
    "punctuation_pattern = r\"[^\\w\\s]\"\n",
    "retweet_pattern = r\"^RT[\\s]+\""
   ]
  },
  {
   "cell_type": "code",
   "execution_count": 466,
   "id": "957b0161-4c2d-4f33-90a3-e8892a27455a",
   "metadata": {},
   "outputs": [],
   "source": [
    "def load_stopwords(file_path):\n",
    "    with open(file_path, 'r', encoding=\"utf-8\") as f:\n",
    "        stopwords = f.readlines()\n",
    "        stop_set = set(m.strip() for m in stopwords)\n",
    "    return frozenset(stop_set)\n",
    "\n",
    "def process_text(text, stop_words):\n",
    "    # Remove URLs\n",
    "    text = re.sub(URL_pattern, '', text)\n",
    "    \n",
    "    # Remove hashtags\n",
    "    text = re.sub(hashtag_pattern, '', text)\n",
    "    \n",
    "    # Remove mention\n",
    "    text = re.sub(mention_pattern, '', text)\n",
    "\n",
    "    # Remove alphanuSmeric characters\n",
    "    text = re.sub(alphanumeric_pattern, '', text)\n",
    "\n",
    "    # Remove punctuation marks\n",
    "    text = re.sub(punctuation_pattern, '', text)\n",
    "    \n",
    "    # Remove Retweet marks\n",
    "    text = re.sub(retweet_pattern, '', text)\n",
    "\n",
    "    # Remove stop words using the provided set\n",
    "    text = ' '.join([word for word in text.split() if word.lower() not in stop_words])\n",
    "    text = ' '.join(text.split())\n",
    "    return text"
   ]
  },
  {
   "cell_type": "markdown",
   "id": "d5996172",
   "metadata": {},
   "source": [
    "#### Now Clean your text using above function or implement it from scrach"
   ]
  },
  {
   "cell_type": "code",
   "execution_count": 467,
   "id": "42e2c527",
   "metadata": {},
   "outputs": [
    {
     "data": {
      "text/plain": [
       "162"
      ]
     },
     "execution_count": 467,
     "metadata": {},
     "output_type": "execute_result"
    }
   ],
   "source": [
    "stop_words = load_stopwords('corpus/Stop_Words.txt')\n",
    "len(stop_words)"
   ]
  },
  {
   "cell_type": "code",
   "execution_count": 468,
   "id": "70df2fab-6da4-418a-8c6e-70fd2792d532",
   "metadata": {},
   "outputs": [
    {
     "data": {
      "text/html": [
       "<div>\n",
       "<style scoped>\n",
       "    .dataframe tbody tr th:only-of-type {\n",
       "        vertical-align: middle;\n",
       "    }\n",
       "\n",
       "    .dataframe tbody tr th {\n",
       "        vertical-align: top;\n",
       "    }\n",
       "\n",
       "    .dataframe thead th {\n",
       "        text-align: right;\n",
       "    }\n",
       "</style>\n",
       "<table border=\"1\" class=\"dataframe\">\n",
       "  <thead>\n",
       "    <tr style=\"text-align: right;\">\n",
       "      <th></th>\n",
       "      <th>text</th>\n",
       "    </tr>\n",
       "  </thead>\n",
       "  <tbody>\n",
       "    <tr>\n",
       "      <th>0</th>\n",
       "      <td>والله مستحيل أراها تستقل</td>\n",
       "    </tr>\n",
       "    <tr>\n",
       "      <th>1</th>\n",
       "      <td>نرجع للخمسات</td>\n",
       "    </tr>\n",
       "    <tr>\n",
       "      <th>2</th>\n",
       "      <td>تعلق سعادتك بغير الله فإن الحبيب يجفو والقريب ...</td>\n",
       "    </tr>\n",
       "    <tr>\n",
       "      <th>3</th>\n",
       "      <td>وكن لنفسك شي</td>\n",
       "    </tr>\n",
       "    <tr>\n",
       "      <th>4</th>\n",
       "      <td>شي يؤلم لمكانة المرأة السعودية كنا ننتظر مكانت...</td>\n",
       "    </tr>\n",
       "    <tr>\n",
       "      <th>...</th>\n",
       "      <td>...</td>\n",
       "    </tr>\n",
       "    <tr>\n",
       "      <th>2995</th>\n",
       "      <td>ايش هالترويج ياليتك نزلتيه الفجر لمن تعبنا ونمنا</td>\n",
       "    </tr>\n",
       "    <tr>\n",
       "      <th>2996</th>\n",
       "      <td>شهور تستاهل الزرقاء</td>\n",
       "    </tr>\n",
       "    <tr>\n",
       "      <th>2997</th>\n",
       "      <td>ربي دعوتگ امرتني فاستجب لي گما وعدتني</td>\n",
       "    </tr>\n",
       "    <tr>\n",
       "      <th>2998</th>\n",
       "      <td>أبشرك غيابك راتبي صفالي كامل اعلم الكاتب بس شك...</td>\n",
       "    </tr>\n",
       "    <tr>\n",
       "      <th>2999</th>\n",
       "      <td>ونت الصادق احب عبسي</td>\n",
       "    </tr>\n",
       "  </tbody>\n",
       "</table>\n",
       "<p>3000 rows × 1 columns</p>\n",
       "</div>"
      ],
      "text/plain": [
       "                                                   text\n",
       "0                              والله مستحيل أراها تستقل\n",
       "1                                          نرجع للخمسات\n",
       "2     تعلق سعادتك بغير الله فإن الحبيب يجفو والقريب ...\n",
       "3                                          وكن لنفسك شي\n",
       "4     شي يؤلم لمكانة المرأة السعودية كنا ننتظر مكانت...\n",
       "...                                                 ...\n",
       "2995   ايش هالترويج ياليتك نزلتيه الفجر لمن تعبنا ونمنا\n",
       "2996                                شهور تستاهل الزرقاء\n",
       "2997              ربي دعوتگ امرتني فاستجب لي گما وعدتني\n",
       "2998  أبشرك غيابك راتبي صفالي كامل اعلم الكاتب بس شك...\n",
       "2999                                ونت الصادق احب عبسي\n",
       "\n",
       "[3000 rows x 1 columns]"
      ]
     },
     "execution_count": 468,
     "metadata": {},
     "output_type": "execute_result"
    }
   ],
   "source": [
    "df = pd.DataFrame(columns=['text'])\n",
    "df['text'] = [process_text(sen, stop_words) for sen in train_corpus['Tweets'][:3000]]\n",
    "df"
   ]
  },
  {
   "cell_type": "code",
   "execution_count": 469,
   "id": "20506844-3a6f-406a-bee9-2a0b818f0e2d",
   "metadata": {},
   "outputs": [
    {
     "data": {
      "text/plain": [
       "text    object\n",
       "dtype: object"
      ]
     },
     "execution_count": 469,
     "metadata": {},
     "output_type": "execute_result"
    }
   ],
   "source": [
    "df.dtypes"
   ]
  },
  {
   "cell_type": "markdown",
   "id": "acf0cb63",
   "metadata": {},
   "source": [
    "#### Extra: you could do stemming or lemmatization before training"
   ]
  },
  {
   "cell_type": "code",
   "execution_count": 471,
   "id": "c7dfb9c8-0e2c-4463-84d4-cb478f6b8f7d",
   "metadata": {},
   "outputs": [],
   "source": [
    "from tashaphyne.stemming import ArabicLightStemmer\n",
    "import arabicstopwords.arabicstopwords as stp\n",
    "ArListem = ArabicLightStemmer()"
   ]
  },
  {
   "cell_type": "code",
   "execution_count": 472,
   "id": "2caf8dca-7525-49ea-b0ac-9124d0ba2f75",
   "metadata": {},
   "outputs": [],
   "source": [
    "\n",
    "def text_root(text):\n",
    "    # Tokenize the input text\n",
    "    tokens = word_tokenize(text)\n",
    "    \n",
    "    # Remove tokens that consist of only uppercase letters\n",
    "    tokens = [w.strip() for w in tokens if not re.match(r'[A-Z]+', w, re.I)]\n",
    "\n",
    "    # Remove stop words\n",
    "    no_stop_tokens = [i.strip() for i in tokens if i.lower() not in stopwords.words('english')]\n",
    "\n",
    "    # Initialize Arabic light stemmer\n",
    "    ar_light_stemmer = ArabicLightStemmer()\n",
    "\n",
    "    # Get the root for each token and concatenate them into a single string\n",
    "    text_rooted = ' '.join(ar_light_stemmer.light_stem(word) for word in no_stop_tokens)\n",
    "\n",
    "    return text_rooted\n"
   ]
  },
  {
   "cell_type": "code",
   "execution_count": 473,
   "id": "5f8d2914-f89f-48a3-afd0-d8e5147dfbcd",
   "metadata": {},
   "outputs": [],
   "source": [
    "\n",
    "def text_stem(text):\n",
    "\n",
    "    tokens = word_tokenize(text)\n",
    "\n",
    "    tokens = [w for w in tokens if not re.match(r'[A-Z]+', w, re.I)]\n",
    "\n",
    "    no_stop_tokens = [i for i in tokens if i.lower() not in stopwords.words('english')]\n",
    "\n",
    "    ar_light_stemmer = ArabicLightStemmer()\n",
    "\n",
    "    stem_words = [ar_light_stemmer.light_stem(i) for i in no_stop_tokens]\n",
    "    \n",
    "    stemmed_text = \" \".join(stem_words)\n",
    "\n",
    "    return stemmed_text\n"
   ]
  },
  {
   "cell_type": "code",
   "execution_count": 477,
   "id": "2ade3d4f-7c32-4c92-9144-3e9df88b0fd3",
   "metadata": {},
   "outputs": [
    {
     "name": "stdout",
     "output_type": "stream",
     "text": [
      "original :  تعلق سعادتك بغير الله فإن الحبيب يجفو والقريب يبعد والحي يموت والمال يفنى والصحة تزول يبقى إلا الحي القيوم\n",
      "Stem :  علق سعاد له حبيب جفو قريب بعد حي موت مال فنى صح زول بقى حي قيوم\n",
      "Root :  علق سعد لهه حبب جفف قرب بعد ولح موت لمل فني صحح زول بقي ولح لقم \n"
     ]
    }
   ],
   "source": [
    "print('original : ',df['text'][2])\n",
    "print('Stem : ', text_stem(df['text'][2]))\n",
    "print('Root : ', text_root(df['text'][2]))"
   ]
  },
  {
   "cell_type": "code",
   "execution_count": 478,
   "id": "433ef7ff-3503-48e4-8977-4d774a424392",
   "metadata": {},
   "outputs": [
    {
     "data": {
      "text/html": [
       "<div>\n",
       "<style scoped>\n",
       "    .dataframe tbody tr th:only-of-type {\n",
       "        vertical-align: middle;\n",
       "    }\n",
       "\n",
       "    .dataframe tbody tr th {\n",
       "        vertical-align: top;\n",
       "    }\n",
       "\n",
       "    .dataframe thead th {\n",
       "        text-align: right;\n",
       "    }\n",
       "</style>\n",
       "<table border=\"1\" class=\"dataframe\">\n",
       "  <thead>\n",
       "    <tr style=\"text-align: right;\">\n",
       "      <th></th>\n",
       "      <th>text</th>\n",
       "    </tr>\n",
       "  </thead>\n",
       "  <tbody>\n",
       "    <tr>\n",
       "      <th>0</th>\n",
       "      <td>له مستحيل را ستقل</td>\n",
       "    </tr>\n",
       "    <tr>\n",
       "      <th>1</th>\n",
       "      <td>رجع خمس</td>\n",
       "    </tr>\n",
       "    <tr>\n",
       "      <th>2</th>\n",
       "      <td>علق سعاد له حبيب جفو قريب بعد حي موت مال فنى ص...</td>\n",
       "    </tr>\n",
       "    <tr>\n",
       "      <th>3</th>\n",
       "      <td>كن شي</td>\n",
       "    </tr>\n",
       "    <tr>\n",
       "      <th>4</th>\n",
       "      <td>شي ؤلم مكان مرأ سعود نا نتظر مكان قم هرم</td>\n",
       "    </tr>\n",
       "    <tr>\n",
       "      <th>...</th>\n",
       "      <td>...</td>\n",
       "    </tr>\n",
       "    <tr>\n",
       "      <th>2995</th>\n",
       "      <td>يش هالترويج يال نزلت فجر عب منا</td>\n",
       "    </tr>\n",
       "    <tr>\n",
       "      <th>2996</th>\n",
       "      <td>شهور تستاهل زرقاء</td>\n",
       "    </tr>\n",
       "    <tr>\n",
       "      <th>2997</th>\n",
       "      <td>رب دعوتگ مرت ستجب گم عد</td>\n",
       "    </tr>\n",
       "    <tr>\n",
       "      <th>2998</th>\n",
       "      <td>شر غياب راتب صفال امل علم كاتب شكل خروف طيب</td>\n",
       "    </tr>\n",
       "    <tr>\n",
       "      <th>2999</th>\n",
       "      <td>نت صادق حب عبس</td>\n",
       "    </tr>\n",
       "  </tbody>\n",
       "</table>\n",
       "<p>3000 rows × 1 columns</p>\n",
       "</div>"
      ],
      "text/plain": [
       "                                                   text\n",
       "0                                     له مستحيل را ستقل\n",
       "1                                               رجع خمس\n",
       "2     علق سعاد له حبيب جفو قريب بعد حي موت مال فنى ص...\n",
       "3                                                 كن شي\n",
       "4              شي ؤلم مكان مرأ سعود نا نتظر مكان قم هرم\n",
       "...                                                 ...\n",
       "2995                    يش هالترويج يال نزلت فجر عب منا\n",
       "2996                                  شهور تستاهل زرقاء\n",
       "2997                            رب دعوتگ مرت ستجب گم عد\n",
       "2998        شر غياب راتب صفال امل علم كاتب شكل خروف طيب\n",
       "2999                                     نت صادق حب عبس\n",
       "\n",
       "[3000 rows x 1 columns]"
      ]
     },
     "execution_count": 478,
     "metadata": {},
     "output_type": "execute_result"
    }
   ],
   "source": [
    "df['text'] = df['text'].apply(text_stem)\n",
    "df"
   ]
  },
  {
   "cell_type": "code",
   "execution_count": 482,
   "id": "673027e9-e032-45ca-a888-81657b82955b",
   "metadata": {},
   "outputs": [
    {
     "data": {
      "text/html": [
       "<div>\n",
       "<style scoped>\n",
       "    .dataframe tbody tr th:only-of-type {\n",
       "        vertical-align: middle;\n",
       "    }\n",
       "\n",
       "    .dataframe tbody tr th {\n",
       "        vertical-align: top;\n",
       "    }\n",
       "\n",
       "    .dataframe thead th {\n",
       "        text-align: right;\n",
       "    }\n",
       "</style>\n",
       "<table border=\"1\" class=\"dataframe\">\n",
       "  <thead>\n",
       "    <tr style=\"text-align: right;\">\n",
       "      <th></th>\n",
       "      <th>text</th>\n",
       "      <th>Labels</th>\n",
       "    </tr>\n",
       "  </thead>\n",
       "  <tbody>\n",
       "    <tr>\n",
       "      <th>0</th>\n",
       "      <td>له مستحيل را ستقل</td>\n",
       "      <td>1</td>\n",
       "    </tr>\n",
       "    <tr>\n",
       "      <th>1</th>\n",
       "      <td>رجع خمس</td>\n",
       "      <td>1</td>\n",
       "    </tr>\n",
       "    <tr>\n",
       "      <th>2</th>\n",
       "      <td>علق سعاد له حبيب جفو قريب بعد حي موت مال فنى ص...</td>\n",
       "      <td>1</td>\n",
       "    </tr>\n",
       "    <tr>\n",
       "      <th>3</th>\n",
       "      <td>كن شي</td>\n",
       "      <td>1</td>\n",
       "    </tr>\n",
       "    <tr>\n",
       "      <th>4</th>\n",
       "      <td>شي ؤلم مكان مرأ سعود نا نتظر مكان قم هرم</td>\n",
       "      <td>0</td>\n",
       "    </tr>\n",
       "    <tr>\n",
       "      <th>...</th>\n",
       "      <td>...</td>\n",
       "      <td>...</td>\n",
       "    </tr>\n",
       "    <tr>\n",
       "      <th>2995</th>\n",
       "      <td>يش هالترويج يال نزلت فجر عب منا</td>\n",
       "      <td>0</td>\n",
       "    </tr>\n",
       "    <tr>\n",
       "      <th>2996</th>\n",
       "      <td>شهور تستاهل زرقاء</td>\n",
       "      <td>1</td>\n",
       "    </tr>\n",
       "    <tr>\n",
       "      <th>2997</th>\n",
       "      <td>رب دعوتگ مرت ستجب گم عد</td>\n",
       "      <td>0</td>\n",
       "    </tr>\n",
       "    <tr>\n",
       "      <th>2998</th>\n",
       "      <td>شر غياب راتب صفال امل علم كاتب شكل خروف طيب</td>\n",
       "      <td>1</td>\n",
       "    </tr>\n",
       "    <tr>\n",
       "      <th>2999</th>\n",
       "      <td>نت صادق حب عبس</td>\n",
       "      <td>0</td>\n",
       "    </tr>\n",
       "  </tbody>\n",
       "</table>\n",
       "<p>3000 rows × 2 columns</p>\n",
       "</div>"
      ],
      "text/plain": [
       "                                                   text  Labels\n",
       "0                                     له مستحيل را ستقل       1\n",
       "1                                               رجع خمس       1\n",
       "2     علق سعاد له حبيب جفو قريب بعد حي موت مال فنى ص...       1\n",
       "3                                                 كن شي       1\n",
       "4              شي ؤلم مكان مرأ سعود نا نتظر مكان قم هرم       0\n",
       "...                                                 ...     ...\n",
       "2995                    يش هالترويج يال نزلت فجر عب منا       0\n",
       "2996                                  شهور تستاهل زرقاء       1\n",
       "2997                            رب دعوتگ مرت ستجب گم عد       0\n",
       "2998        شر غياب راتب صفال امل علم كاتب شكل خروف طيب       1\n",
       "2999                                     نت صادق حب عبس       0\n",
       "\n",
       "[3000 rows x 2 columns]"
      ]
     },
     "execution_count": 482,
     "metadata": {},
     "output_type": "execute_result"
    }
   ],
   "source": [
    "df['Labels'] = train_corpus['Labels'][:3000].values\n",
    "df"
   ]
  },
  {
   "cell_type": "code",
   "execution_count": 484,
   "id": "06087060-a47c-4fdd-8159-aea873ad5476",
   "metadata": {},
   "outputs": [
    {
     "data": {
      "text/plain": [
       "text      object\n",
       "Labels     int64\n",
       "dtype: object"
      ]
     },
     "execution_count": 484,
     "metadata": {},
     "output_type": "execute_result"
    }
   ],
   "source": [
    "df.dtypes"
   ]
  },
  {
   "cell_type": "markdown",
   "id": "160549cf-bffd-4205-a8fa-a6aa0695bcd8",
   "metadata": {},
   "source": [
    "# Tokenizer"
   ]
  },
  {
   "cell_type": "code",
   "execution_count": 628,
   "id": "116e73af-8d88-4928-8243-6f456fc6de40",
   "metadata": {},
   "outputs": [],
   "source": [
    "Corpus = df[\"text\"].astype(str).tolist()\n",
    "\n",
    "tokenizer = Tokenizer(oov_token='<oov>')\n",
    "tokenizer.fit_on_texts(Corpus) "
   ]
  },
  {
   "cell_type": "markdown",
   "id": "5bba90d2-7712-4e80-9120-c82f495b5f66",
   "metadata": {},
   "source": [
    "# Text to sequence"
   ]
  },
  {
   "cell_type": "code",
   "execution_count": 629,
   "id": "3f152bfd-478f-4cdd-b17e-885d4649019f",
   "metadata": {},
   "outputs": [
    {
     "name": "stdout",
     "output_type": "stream",
     "text": [
      "Total number of words:  6368\n"
     ]
    }
   ],
   "source": [
    "sequences = tokenizer.texts_to_sequences(Corpus)\n",
    "num_classes = len(tokenizer.word_index) + 1\n",
    "\n",
    "print(\"Total number of words: \", num_classes)"
   ]
  },
  {
   "cell_type": "markdown",
   "id": "21c31c7d-0375-4ef2-9f51-dccef70793d3",
   "metadata": {},
   "source": [
    "# Pad sequence"
   ]
  },
  {
   "cell_type": "code",
   "execution_count": 647,
   "id": "0d05e3c6-6f92-4a49-a904-f0af742ffe4b",
   "metadata": {},
   "outputs": [],
   "source": [
    "Mxlength = max([len(seq) for seq in sequences])\n",
    "inputseq= pad_sequences(sequences, maxlen=Mxlength)"
   ]
  },
  {
   "cell_type": "code",
   "execution_count": 650,
   "id": "746adcd5-2eaf-4c2a-a9da-1e3e00436370",
   "metadata": {},
   "outputs": [
    {
     "data": {
      "text/plain": [
       "array([[   0,    0,    0, ...,  628,   71, 2761],\n",
       "       [   0,    0,    0, ...,    0,   81,  731],\n",
       "       [   0,    0,    0, ...,  201,  105, 2763],\n",
       "       ...,\n",
       "       [   0,    0,    0, ..., 1415,  592,  186],\n",
       "       [   0,    0,    0, ...,  211, 2274,   82],\n",
       "       [   0,    0,    0, ...,  679,    6, 6367]])"
      ]
     },
     "execution_count": 650,
     "metadata": {},
     "output_type": "execute_result"
    }
   ],
   "source": [
    "inputseq"
   ]
  },
  {
   "cell_type": "code",
   "execution_count": 651,
   "id": "d3701052-3166-4542-92b5-7fe5384c4fe5",
   "metadata": {},
   "outputs": [
    {
     "data": {
      "text/plain": [
       "((3000, 24), (3000,))"
      ]
     },
     "execution_count": 651,
     "metadata": {},
     "output_type": "execute_result"
    }
   ],
   "source": [
    "np.shape(inputseq), np.shape(df['Labels'])"
   ]
  },
  {
   "cell_type": "markdown",
   "id": "b485120c-47f1-43e9-b6c1-cbe0a69f04c7",
   "metadata": {},
   "source": [
    "# Split data to train and test"
   ]
  },
  {
   "cell_type": "code",
   "execution_count": 653,
   "id": "b8d2fb10-2a1a-4201-8d23-a3301dcb51fe",
   "metadata": {},
   "outputs": [
    {
     "data": {
      "text/plain": [
       "((2010, 24), (2010,), (990, 24), (990,))"
      ]
     },
     "execution_count": 653,
     "metadata": {},
     "output_type": "execute_result"
    }
   ],
   "source": [
    "from sklearn.model_selection import train_test_split\n",
    "X, Y = inputseq, df['Labels']\n",
    "X_train, X_test, Y_train, Y_test = train_test_split( X, Y, test_size=0.33, random_state=42)\n",
    "X_train.shape, Y_train.shape, X_test.shape, Y_test.shape"
   ]
  },
  {
   "cell_type": "markdown",
   "id": "8e5d0909-8e90-4aef-9ddb-42c3597791cb",
   "metadata": {},
   "source": [
    "# RNN Model"
   ]
  },
  {
   "cell_type": "code",
   "execution_count": 654,
   "id": "8cd7dfea-6b02-47fc-a97d-b8356c15a27c",
   "metadata": {},
   "outputs": [],
   "source": [
    "from keras.layers import *\n",
    "from keras.models import Sequential"
   ]
  },
  {
   "cell_type": "code",
   "execution_count": 655,
   "id": "5d866142-d58e-4503-9626-9e58974db850",
   "metadata": {},
   "outputs": [],
   "source": [
    "rnn_model = Sequential()\n",
    "\n",
    "rnn_model.add(Embedding(input_dim=len(tokenizer.index_word) + 1, output_dim=32))\n",
    "\n",
    "rnn_model.add(SimpleRNN(units=91, return_sequences=True))\n",
    "rnn_model.add(SimpleRNN(units=71))\n",
    "rnn_model.add(Dense(units=1, activation='sigmoid'))\n",
    "\n",
    "rnn_model.compile(loss='binary_crossentropy', optimizer='adam', metrics=['accuracy'])\n"
   ]
  },
  {
   "cell_type": "code",
   "execution_count": 656,
   "id": "861947b8-5404-4cd7-a6f2-0b1408332617",
   "metadata": {},
   "outputs": [
    {
     "name": "stdout",
     "output_type": "stream",
     "text": [
      "Epoch 1/10\n",
      "81/81 [==============================] - 4s 13ms/step - loss: 0.6760 - accuracy: 0.5448\n",
      "Epoch 2/10\n",
      "81/81 [==============================] - 1s 12ms/step - loss: 0.3652 - accuracy: 0.8333\n",
      "Epoch 3/10\n",
      "81/81 [==============================] - 1s 14ms/step - loss: 0.1238 - accuracy: 0.9537\n",
      "Epoch 4/10\n",
      "81/81 [==============================] - 1s 14ms/step - loss: 0.0570 - accuracy: 0.9776\n",
      "Epoch 5/10\n",
      "81/81 [==============================] - 1s 13ms/step - loss: 0.0362 - accuracy: 0.9891\n",
      "Epoch 6/10\n",
      "81/81 [==============================] - 1s 13ms/step - loss: 0.0247 - accuracy: 0.9930\n",
      "Epoch 7/10\n",
      "81/81 [==============================] - 1s 13ms/step - loss: 0.0220 - accuracy: 0.9915\n",
      "Epoch 8/10\n",
      "81/81 [==============================] - 1s 13ms/step - loss: 0.0190 - accuracy: 0.9940\n",
      "Epoch 9/10\n",
      "81/81 [==============================] - 1s 13ms/step - loss: 0.0164 - accuracy: 0.9945\n",
      "Epoch 10/10\n",
      "81/81 [==============================] - 1s 14ms/step - loss: 0.0134 - accuracy: 0.9945\n",
      "CPU times: total: 12.5 s\n",
      "Wall time: 13.9 s\n"
     ]
    }
   ],
   "source": [
    "%%time\n",
    "RNN_epochs_hist = rnn_model.fit(X_train,y_train, epochs=10, batch_size=25)"
   ]
  },
  {
   "cell_type": "code",
   "execution_count": 657,
   "id": "4d7ce898-c8a2-4031-baea-6ed1918cd951",
   "metadata": {},
   "outputs": [
    {
     "name": "stdout",
     "output_type": "stream",
     "text": [
      "31/31 [==============================] - 1s 8ms/step\n",
      "CPU times: total: 594 ms\n",
      "Wall time: 877 ms\n"
     ]
    }
   ],
   "source": [
    "%%time\n",
    "RNNModel_predict = rnn_model.predict(X_test) "
   ]
  },
  {
   "cell_type": "markdown",
   "id": "d8a35492-747b-4fea-a80c-1602ff36da21",
   "metadata": {},
   "source": [
    "# LSTM Model"
   ]
  },
  {
   "cell_type": "code",
   "execution_count": 658,
   "id": "81dea6f1-bd72-4e78-908e-92b142c6d133",
   "metadata": {},
   "outputs": [],
   "source": [
    "Lstm_model = Sequential()\n",
    "\n",
    "Lstm_model.add(Embedding(len(tokenizer.index_word)+1, 32))\n",
    "Lstm_model.add(LSTM(133))\n",
    "Lstm_model.add(Dense(1, activation='sigmoid'))\n",
    "\n",
    "Lstm_model.compile(loss='binary_crossentropy', optimizer='adam', metrics=['accuracy'])"
   ]
  },
  {
   "cell_type": "code",
   "execution_count": 659,
   "id": "cbfcc547-17f0-4c91-8d29-255a1c7a67ee",
   "metadata": {},
   "outputs": [
    {
     "name": "stdout",
     "output_type": "stream",
     "text": [
      "Epoch 1/10\n",
      "81/81 [==============================] - 6s 20ms/step - loss: 0.6890 - accuracy: 0.5323\n",
      "Epoch 2/10\n",
      "81/81 [==============================] - 2s 21ms/step - loss: 0.5177 - accuracy: 0.7517\n",
      "Epoch 3/10\n",
      "81/81 [==============================] - 1s 19ms/step - loss: 0.2751 - accuracy: 0.8930\n",
      "Epoch 4/10\n",
      "81/81 [==============================] - 2s 19ms/step - loss: 0.1432 - accuracy: 0.9488\n",
      "Epoch 5/10\n",
      "81/81 [==============================] - 2s 19ms/step - loss: 0.0805 - accuracy: 0.9711\n",
      "Epoch 6/10\n",
      "81/81 [==============================] - 2s 20ms/step - loss: 0.0557 - accuracy: 0.9811\n",
      "Epoch 7/10\n",
      "81/81 [==============================] - 2s 20ms/step - loss: 0.0417 - accuracy: 0.9846\n",
      "Epoch 8/10\n",
      "81/81 [==============================] - 2s 20ms/step - loss: 0.0328 - accuracy: 0.9881\n",
      "Epoch 9/10\n",
      "81/81 [==============================] - 2s 20ms/step - loss: 0.0342 - accuracy: 0.9886\n",
      "Epoch 10/10\n",
      "81/81 [==============================] - 2s 20ms/step - loss: 0.0229 - accuracy: 0.9915\n",
      "CPU times: total: 9.52 s\n",
      "Wall time: 20 s\n"
     ]
    }
   ],
   "source": [
    "%%time\n",
    "lstm_epochs_hist = Lstm_model.fit(X_train,y_train, epochs=10, batch_size=25)"
   ]
  },
  {
   "cell_type": "code",
   "execution_count": 660,
   "id": "52a9c5cb-86d0-4008-ad34-c715c7da01b1",
   "metadata": {},
   "outputs": [
    {
     "name": "stdout",
     "output_type": "stream",
     "text": [
      "31/31 [==============================] - 1s 9ms/step\n",
      "CPU times: total: 797 ms\n",
      "Wall time: 1.13 s\n"
     ]
    }
   ],
   "source": [
    "%%time\n",
    "lstmModel_predict = Lstm_model.predict(X_test) "
   ]
  },
  {
   "cell_type": "markdown",
   "id": "7e105a33-8de7-406f-a5fb-c1a558c7bb9d",
   "metadata": {},
   "source": [
    "# Evaulation and Comparsion"
   ]
  },
  {
   "cell_type": "code",
   "execution_count": 661,
   "id": "3a956b35-0604-44d5-87f2-eacfb36870d2",
   "metadata": {},
   "outputs": [
    {
     "data": {
      "text/html": [
       "<div>\n",
       "<style scoped>\n",
       "    .dataframe tbody tr th:only-of-type {\n",
       "        vertical-align: middle;\n",
       "    }\n",
       "\n",
       "    .dataframe tbody tr th {\n",
       "        vertical-align: top;\n",
       "    }\n",
       "\n",
       "    .dataframe thead th {\n",
       "        text-align: right;\n",
       "    }\n",
       "</style>\n",
       "<table border=\"1\" class=\"dataframe\">\n",
       "  <thead>\n",
       "    <tr style=\"text-align: right;\">\n",
       "      <th></th>\n",
       "      <th>True</th>\n",
       "      <th>RNN_predict</th>\n",
       "      <th>LSTM_predict</th>\n",
       "    </tr>\n",
       "  </thead>\n",
       "  <tbody>\n",
       "    <tr>\n",
       "      <th>1801</th>\n",
       "      <td>1</td>\n",
       "      <td>0</td>\n",
       "      <td>1</td>\n",
       "    </tr>\n",
       "    <tr>\n",
       "      <th>1190</th>\n",
       "      <td>1</td>\n",
       "      <td>1</td>\n",
       "      <td>1</td>\n",
       "    </tr>\n",
       "    <tr>\n",
       "      <th>1817</th>\n",
       "      <td>1</td>\n",
       "      <td>0</td>\n",
       "      <td>1</td>\n",
       "    </tr>\n",
       "    <tr>\n",
       "      <th>251</th>\n",
       "      <td>0</td>\n",
       "      <td>1</td>\n",
       "      <td>0</td>\n",
       "    </tr>\n",
       "    <tr>\n",
       "      <th>2505</th>\n",
       "      <td>0</td>\n",
       "      <td>0</td>\n",
       "      <td>0</td>\n",
       "    </tr>\n",
       "    <tr>\n",
       "      <th>...</th>\n",
       "      <td>...</td>\n",
       "      <td>...</td>\n",
       "      <td>...</td>\n",
       "    </tr>\n",
       "    <tr>\n",
       "      <th>2468</th>\n",
       "      <td>0</td>\n",
       "      <td>0</td>\n",
       "      <td>0</td>\n",
       "    </tr>\n",
       "    <tr>\n",
       "      <th>2013</th>\n",
       "      <td>1</td>\n",
       "      <td>1</td>\n",
       "      <td>0</td>\n",
       "    </tr>\n",
       "    <tr>\n",
       "      <th>714</th>\n",
       "      <td>0</td>\n",
       "      <td>0</td>\n",
       "      <td>0</td>\n",
       "    </tr>\n",
       "    <tr>\n",
       "      <th>803</th>\n",
       "      <td>1</td>\n",
       "      <td>1</td>\n",
       "      <td>1</td>\n",
       "    </tr>\n",
       "    <tr>\n",
       "      <th>2008</th>\n",
       "      <td>1</td>\n",
       "      <td>1</td>\n",
       "      <td>1</td>\n",
       "    </tr>\n",
       "  </tbody>\n",
       "</table>\n",
       "<p>990 rows × 3 columns</p>\n",
       "</div>"
      ],
      "text/plain": [
       "      True  RNN_predict  LSTM_predict\n",
       "1801     1            0             1\n",
       "1190     1            1             1\n",
       "1817     1            0             1\n",
       "251      0            1             0\n",
       "2505     0            0             0\n",
       "...    ...          ...           ...\n",
       "2468     0            0             0\n",
       "2013     1            1             0\n",
       "714      0            0             0\n",
       "803      1            1             1\n",
       "2008     1            1             1\n",
       "\n",
       "[990 rows x 3 columns]"
      ]
     },
     "execution_count": 661,
     "metadata": {},
     "output_type": "execute_result"
    }
   ],
   "source": [
    "evaluation = pd.DataFrame(columns = ['True', 'RNN_predict', 'LSTM_predict'])\n",
    "evaluation['True'] = Y_test\n",
    "evaluation['RNN_predict'] = [1 if i >.5 else 0 for i in RNNModel_predict ]\n",
    "evaluation['LSTM_predict'] = [1 if i >.5 else 0 for i in lstmModel_predict ]\n",
    "\n",
    "evaluation"
   ]
  },
  {
   "cell_type": "code",
   "execution_count": 662,
   "id": "e398114c-61e4-439e-aa32-4e8f2295446e",
   "metadata": {},
   "outputs": [],
   "source": [
    "from sklearn.metrics import accuracy_score, precision_score, recall_score, f1_score\n",
    "from sklearn.metrics import classification_report"
   ]
  },
  {
   "cell_type": "code",
   "execution_count": 663,
   "id": "310326f0-2bec-44f2-9082-56c3bd9e77e1",
   "metadata": {},
   "outputs": [],
   "source": [
    "def evaluate_model(predictions, true_labels):\n",
    "  \n",
    "    accuracy = round(accuracy_score(true_labels, predictions), 3)\n",
    "    precision = round(precision_score(true_labels, predictions), 3)\n",
    "    recall = round(recall_score(true_labels, predictions), 3)\n",
    "    f1 = round(f1_score(true_labels, predictions), 3)\n",
    " \n",
    "    print(f'The accuracy of the model: {accuracy}')\n",
    "    print(f'The precision of the model: {precision}')\n",
    "    print(f'The recall of the model: {recall}')\n",
    "    print(f'The f1 score of the model: {f1}\\n')\n",
    "    \n",
    "    \n",
    "    print('The classification report of the model:\\n')\n",
    "    print(classification_report(true_labels, predictions))\n"
   ]
  },
  {
   "cell_type": "code",
   "execution_count": 664,
   "id": "d24fd06f-8b5f-4a45-9fed-c784cd2c004c",
   "metadata": {},
   "outputs": [
    {
     "name": "stdout",
     "output_type": "stream",
     "text": [
      "RNN :\n",
      "\n",
      "The accuracy of the model :  0.601\n",
      "The precision of the model :  0.611\n",
      "The recall of the model :  0.62\n",
      "The f1 score of the model :  0.615\n",
      "\n",
      "The classification_report of the model :\n",
      "\n",
      "               precision    recall  f1-score   support\n",
      "\n",
      "           0       0.59      0.58      0.59       480\n",
      "           1       0.61      0.62      0.62       510\n",
      "\n",
      "    accuracy                           0.60       990\n",
      "   macro avg       0.60      0.60      0.60       990\n",
      "weighted avg       0.60      0.60      0.60       990\n",
      "\n",
      "\n",
      "\n",
      "LSTM :\n",
      "\n",
      "The accuracy of the model :  0.616\n",
      "The precision of the model :  0.633\n",
      "The recall of the model :  0.606\n",
      "The f1 score of the model :  0.619\n",
      "\n",
      "The classification_report of the model :\n",
      "\n",
      "               precision    recall  f1-score   support\n",
      "\n",
      "           0       0.60      0.63      0.61       480\n",
      "           1       0.63      0.61      0.62       510\n",
      "\n",
      "    accuracy                           0.62       990\n",
      "   macro avg       0.62      0.62      0.62       990\n",
      "weighted avg       0.62      0.62      0.62       990\n",
      "\n"
     ]
    }
   ],
   "source": [
    "print('RNN :\\n')\n",
    "eval(evaluation['RNN_predict'])\n",
    "print('\\n')\n",
    "print('LSTM :\\n')\n",
    "eval(evaluation['LSTM_predict'])"
   ]
  }
 ],
 "metadata": {
  "kernelspec": {
   "display_name": "Python 3 (ipykernel)",
   "language": "python",
   "name": "python3"
  },
  "language_info": {
   "codemirror_mode": {
    "name": "ipython",
    "version": 3
   },
   "file_extension": ".py",
   "mimetype": "text/x-python",
   "name": "python",
   "nbconvert_exporter": "python",
   "pygments_lexer": "ipython3",
   "version": "3.11.5"
  }
 },
 "nbformat": 4,
 "nbformat_minor": 5
}
